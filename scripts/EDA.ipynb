{
 "cells": [
  {
   "cell_type": "markdown",
   "metadata": {},
   "source": [
    "### Inital EDA "
   ]
  },
  {
   "cell_type": "code",
   "execution_count": 1,
   "metadata": {},
   "outputs": [],
   "source": [
    "# importing necessary libraries\n",
    "import pandas as pd\n",
    "from collections import Counter\n",
    "import re"
   ]
  },
  {
   "cell_type": "markdown",
   "metadata": {},
   "source": [
    "#### Loading 'vaers_all_to_annotate.csv'"
   ]
  },
  {
   "cell_type": "code",
   "execution_count": 6,
   "metadata": {},
   "outputs": [],
   "source": [
    "vaers_all_to_annotate = pd.read_csv('/Users/joeraymond/Desktop/Data_Science_Projects/ADEGuard_AI_System/data/processed/data_to_annotate/vaers_all_to_annotate.csv')"
   ]
  },
  {
   "cell_type": "code",
   "execution_count": 7,
   "metadata": {},
   "outputs": [
    {
     "name": "stdout",
     "output_type": "stream",
     "text": [
      "<class 'pandas.core.frame.DataFrame'>\n",
      "RangeIndex: 1111040 entries, 0 to 1111039\n",
      "Data columns (total 3 columns):\n",
      " #   Column        Non-Null Count    Dtype \n",
      "---  ------        --------------    ----- \n",
      " 0   VAERS_ID      1111040 non-null  int64 \n",
      " 1   SYMPTOM_TEXT  1110465 non-null  object\n",
      " 2   YEAR          1111040 non-null  int64 \n",
      "dtypes: int64(2), object(1)\n",
      "memory usage: 25.4+ MB\n"
     ]
    }
   ],
   "source": [
    "vaers_all_to_annotate.info()"
   ]
  },
  {
   "cell_type": "code",
   "execution_count": 3,
   "metadata": {},
   "outputs": [
    {
     "name": "stdout",
     "output_type": "stream",
     "text": [
      "<class 'pandas.core.frame.DataFrame'>\n",
      "RangeIndex: 1111040 entries, 0 to 1111039\n",
      "Data columns (total 3 columns):\n",
      " #   Column        Non-Null Count    Dtype \n",
      "---  ------        --------------    ----- \n",
      " 0   VAERS_ID      1111040 non-null  int64 \n",
      " 1   SYMPTOM_TEXT  1110465 non-null  object\n",
      " 2   YEAR          1111040 non-null  int64 \n",
      "dtypes: int64(2), object(1)\n",
      "memory usage: 25.4+ MB\n"
     ]
    }
   ],
   "source": [
    "vaers_all_to_annotate.info()"
   ]
  },
  {
   "cell_type": "markdown",
   "metadata": {},
   "source": [
    "##### Mean number of words in the records "
   ]
  },
  {
   "cell_type": "code",
   "execution_count": 7,
   "metadata": {},
   "outputs": [
    {
     "name": "stdout",
     "output_type": "stream",
     "text": [
      "Mean word count in records: 107.07992331509216\n"
     ]
    }
   ],
   "source": [
    "# Step 1: Calculate the number of words in each record by splitting text by spaces\n",
    "vaers_all_to_annotate['Word Count'] = vaers_all_to_annotate['SYMPTOM_TEXT'].apply(lambda x: len(x.split()) if isinstance(x, str) else 0)\n",
    "\n",
    "# Step 2: Calculate the mean word count for all records\n",
    "mean_word_count = vaers_all_to_annotate['Word Count'].mean()\n",
    "\n",
    "print(f\"Mean word count in records: {mean_word_count}\")\n"
   ]
  },
  {
   "cell_type": "markdown",
   "metadata": {},
   "source": [
    "##### Mean number of chars in records."
   ]
  },
  {
   "cell_type": "code",
   "execution_count": 10,
   "metadata": {},
   "outputs": [
    {
     "name": "stdout",
     "output_type": "stream",
     "text": [
      "Mean length of records in characters: 692.9194925475231\n"
     ]
    }
   ],
   "source": [
    "# Assuming you have a DataFrame `df` and the column 'Text' contains the complete text for each record\n",
    "\n",
    "# Calculate the length of the text for each record\n",
    "vaers_all_to_annotate['Text Length'] = vaers_all_to_annotate['SYMPTOM_TEXT'].apply(lambda x: len(str(x)) if isinstance(x, str) else 0)\n",
    "\n",
    "# Now, calculate the mean length across all records\n",
    "mean_text_length = vaers_all_to_annotate['Text Length'].mean()\n",
    "\n",
    "print(f\"Mean length of records in characters: {mean_text_length}\")"
   ]
  },
  {
   "cell_type": "markdown",
   "metadata": {},
   "source": [
    "##### Finding the most commonly occuring words in the records."
   ]
  },
  {
   "cell_type": "code",
   "execution_count": 13,
   "metadata": {},
   "outputs": [
    {
     "name": "stdout",
     "output_type": "stream",
     "text": [
      "[('the', 5094476), ('and', 3487467), ('of', 2616199), ('was', 2449620), ('patient', 2156378), ('a', 1955604), ('to', 1918932), ('on', 1861602), ('covid', 1709053), ('19', 1448347), ('for', 1434902), ('vaccine', 1407856), ('in', 1364872), ('not', 1155583), ('dose', 1040080), ('i', 966846), ('with', 930019), ('no', 912181), ('unknown', 908419), ('received', 869223)]\n"
     ]
    }
   ],
   "source": [
    "# Combine all text into one string (ignoring NaNs)\n",
    "all_text = \" \".join(vaers_all_to_annotate['SYMPTOM_TEXT'].dropna().astype(str))\n",
    "\n",
    "# Tokenize words (simple split + regex to keep only words)\n",
    "words = re.findall(r'\\w+', all_text.lower())  # lowercase + keep only alphanumeric\n",
    "\n",
    "# Count word frequencies\n",
    "word_counts = Counter(words)\n",
    "\n",
    "# Get top 20 most common words\n",
    "most_common_words = word_counts.most_common(20)\n"
   ]
  },
  {
   "cell_type": "code",
   "execution_count": 14,
   "metadata": {},
   "outputs": [
    {
     "data": {
      "text/plain": [
       "[('the', 5094476),\n",
       " ('and', 3487467),\n",
       " ('of', 2616199),\n",
       " ('was', 2449620),\n",
       " ('patient', 2156378),\n",
       " ('a', 1955604),\n",
       " ('to', 1918932),\n",
       " ('on', 1861602),\n",
       " ('covid', 1709053),\n",
       " ('19', 1448347),\n",
       " ('for', 1434902),\n",
       " ('vaccine', 1407856),\n",
       " ('in', 1364872),\n",
       " ('not', 1155583),\n",
       " ('dose', 1040080),\n",
       " ('i', 966846),\n",
       " ('with', 930019),\n",
       " ('no', 912181),\n",
       " ('unknown', 908419),\n",
       " ('received', 869223)]"
      ]
     },
     "execution_count": 14,
     "metadata": {},
     "output_type": "execute_result"
    }
   ],
   "source": [
    "most_common_words"
   ]
  },
  {
   "cell_type": "markdown",
   "metadata": {},
   "source": [
    "##### Distribution of records by year in vaers datasets"
   ]
  },
  {
   "cell_type": "code",
   "execution_count": 11,
   "metadata": {},
   "outputs": [
    {
     "name": "stdout",
     "output_type": "stream",
     "text": [
      "YEAR\n",
      "2020     10883\n",
      "2021    757445\n",
      "2022    236988\n",
      "2023     79029\n",
      "2024     21880\n",
      "2025      4815\n",
      "Name: count, dtype: int64 1111040\n"
     ]
    }
   ],
   "source": [
    "# Distribution of records by year\n",
    "year_distribution = vaers_all_to_annotate['YEAR'].value_counts().sort_index()\n",
    "print(year_distribution, sum(year_distribution))"
   ]
  }
 ],
 "metadata": {
  "kernelspec": {
   "display_name": "base",
   "language": "python",
   "name": "python3"
  },
  "language_info": {
   "codemirror_mode": {
    "name": "ipython",
    "version": 3
   },
   "file_extension": ".py",
   "mimetype": "text/x-python",
   "name": "python",
   "nbconvert_exporter": "python",
   "pygments_lexer": "ipython3",
   "version": "3.11.9"
  }
 },
 "nbformat": 4,
 "nbformat_minor": 2
}
