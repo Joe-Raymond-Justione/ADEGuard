{
 "cells": [
  {
   "cell_type": "markdown",
   "metadata": {},
   "source": [
    "### Preparing VAERS data of all years (2020-2025)"
   ]
  },
  {
   "cell_type": "code",
   "execution_count": 2,
   "metadata": {},
   "outputs": [],
   "source": [
    "# importing libraries\n",
    "import pandas as pd\n",
    "import os\n",
    "import glob\n",
    "from IPython.display import display, HTML"
   ]
  },
  {
   "cell_type": "code",
   "execution_count": 4,
   "metadata": {},
   "outputs": [],
   "source": [
    "# Fucntion to load data for all years (2020 - 2025) and join all tables\n",
    "\n",
    "import os\n",
    "import pandas as pd\n",
    "\n",
    "def clean_and_join_vaers(year, base_path):\n",
    "    \"\"\"\n",
    "    Clean and join VAERS DATA + VAX + SYMPTOMS for years 2020 to 2025\n",
    "    \n",
    "    \"\"\"\n",
    "\n",
    "    # -----------------------------\n",
    "    # File paths\n",
    "    # -----------------------------\n",
    "    data_file = os.path.join(base_path, f\"{year}VAERSDATA.csv\")\n",
    "    vax_file = os.path.join(base_path, f\"{year}VAERSVAX.csv\")\n",
    "    symptoms_file = os.path.join(base_path, f\"{year}VAERSSYMPTOMS.csv\")\n",
    "\n",
    "    # -----------------------------\n",
    "    # 1. Load data\n",
    "    # -----------------------------\n",
    "    df_data = pd.read_csv(data_file, encoding=\"ISO-8859-1\")\n",
    "    df_vax = pd.read_csv(vax_file, encoding=\"ISO-8859-1\")\n",
    "    df_sym = pd.read_csv(symptoms_file, encoding=\"ISO-8859-1\")\n",
    "\n",
    "\n",
    "    # -----------------------------\n",
    "    # 2. Clean & transform symptoms\n",
    "    # -----------------------------\n",
    "    # Drop SYMPTOMVERSION cols\n",
    "    df_sym = df_sym.loc[:, ~df_sym.columns.str.startswith('SYMPTOMVERSION')]\n",
    "\n",
    "    # Sort by VAERS_ID and ORDER\n",
    "    df_sym = df_sym.sort_values(by=['VAERS_ID', 'ORDER']).reset_index(drop=True)\n",
    "\n",
    "    # List of SYMPTOM columns\n",
    "    symptom_cols = [col for col in df_sym.columns if col.startswith('SYMPTOM')]\n",
    "\n",
    "    # Create ALL_SYMPTOMS as list per row\n",
    "    df_sym['ALL_SYMPTOMS'] = df_sym[symptom_cols].apply(\n",
    "        lambda x: [sym for sym in x if pd.notna(sym)], axis=1\n",
    "    )\n",
    "\n",
    "    # Drop only the original SYMPTOM columns and keep 'ORDER' column \n",
    "    df_sym.drop(symptom_cols, axis=1, inplace=True)\n",
    "\n",
    "    # Group by VAERS_ID + ORDER\n",
    "    df_sym = df_sym.groupby(['VAERS_ID', 'ORDER'])['ALL_SYMPTOMS'] \\\n",
    "        .apply(lambda lists: [sym for sublist in lists for sym in sublist]) \\\n",
    "        .reset_index()\n",
    "\n",
    "    # -----------------------------\n",
    "    # 3. Filter VAX only for COVID\n",
    "    # -----------------------------\n",
    "    df_vax_covid = df_vax[df_vax['VAX_TYPE'].str.startswith('COVID')].copy()\n",
    "\n",
    "    # Sort by VAERS_ID + ORDER\n",
    "    df_vax_covid = df_vax_covid.sort_values(\n",
    "        by=['VAERS_ID', 'ORDER']\n",
    "    ).reset_index(drop=True)\n",
    "\n",
    "    # -----------------------------\n",
    "    # 4. Join VAX + SYMPTOMS\n",
    "    # -----------------------------\n",
    "    covid_records = df_vax_covid.merge(df_sym, on=['VAERS_ID', 'ORDER'], how='inner')\n",
    "\n",
    "    # -----------------------------\n",
    "    # 5. Join DATA + (VAX+SYMPTOMS)\n",
    "    # -----------------------------\n",
    "    final = df_data.merge(covid_records, on=['VAERS_ID', 'ORDER'], how='inner')\n",
    "\n",
    "    # Track year\n",
    "    final['YEAR'] = year\n",
    "\n",
    "    return final\n",
    "\n",
    "\n"
   ]
  },
  {
   "cell_type": "code",
   "execution_count": 5,
   "metadata": {},
   "outputs": [
    {
     "name": "stdout",
     "output_type": "stream",
     "text": [
      "Processing 2020 ...\n"
     ]
    },
    {
     "name": "stderr",
     "output_type": "stream",
     "text": [
      "/var/folders/cr/048sbrkd4k5f7y4yw3rstw7m0000gn/T/ipykernel_52998/3014866597.py:22: DtypeWarning: Columns (12,15) have mixed types. Specify dtype option on import or set low_memory=False.\n",
      "  df_data = pd.read_csv(data_file, encoding=\"ISO-8859-1\")\n"
     ]
    },
    {
     "name": "stdout",
     "output_type": "stream",
     "text": [
      "Processing 2021 ...\n"
     ]
    },
    {
     "name": "stderr",
     "output_type": "stream",
     "text": [
      "/var/folders/cr/048sbrkd4k5f7y4yw3rstw7m0000gn/T/ipykernel_52998/3014866597.py:22: DtypeWarning: Columns (7,12,15,23) have mixed types. Specify dtype option on import or set low_memory=False.\n",
      "  df_data = pd.read_csv(data_file, encoding=\"ISO-8859-1\")\n"
     ]
    },
    {
     "name": "stdout",
     "output_type": "stream",
     "text": [
      "Processing 2022 ...\n"
     ]
    },
    {
     "name": "stderr",
     "output_type": "stream",
     "text": [
      "/var/folders/cr/048sbrkd4k5f7y4yw3rstw7m0000gn/T/ipykernel_52998/3014866597.py:22: DtypeWarning: Columns (12) have mixed types. Specify dtype option on import or set low_memory=False.\n",
      "  df_data = pd.read_csv(data_file, encoding=\"ISO-8859-1\")\n"
     ]
    },
    {
     "name": "stdout",
     "output_type": "stream",
     "text": [
      "Processing 2023 ...\n",
      "Processing 2024 ...\n",
      "Processing 2025 ...\n"
     ]
    }
   ],
   "source": [
    "base_dir = \"/Users/joeraymond/Desktop/Data_Science_Projects/ADEGuard_AI_System/data/raw\"\n",
    "\n",
    "# Find all year folders\n",
    "year_folders = sorted(glob.glob(os.path.join(base_dir, \"*VAERSData\")))\n",
    "\n",
    "all_years = []\n",
    "\n",
    "for folder in year_folders:\n",
    "    year = int(os.path.basename(folder)[:4])  # e.g. \"2020VAERSData\" -> 2020\n",
    "    print(f\"Processing {year} ...\")\n",
    "    merged = clean_and_join_vaers(year, folder)\n",
    "    all_years.append(merged)\n",
    "\n",
    "# Final combined dataset\n",
    "vaers_all = pd.concat(all_years, ignore_index=True)\n"
   ]
  },
  {
   "cell_type": "code",
   "execution_count": null,
   "metadata": {},
   "outputs": [],
   "source": [
    "# Saving the 'vaers_all' as csv which contains data from all years\n",
    "\n",
    "vaers_all.to_csv('/Users/joeraymond/Desktop/Data_Science_Projects/ADEGuard_AI_System/data/processed/processed_data/vaers_all.csv', index=False)"
   ]
  },
  {
   "cell_type": "code",
   "execution_count": 13,
   "metadata": {},
   "outputs": [
    {
     "data": {
      "text/plain": [
       "1112050"
      ]
     },
     "execution_count": 13,
     "metadata": {},
     "output_type": "execute_result"
    }
   ],
   "source": [
    "len(vaers_all)"
   ]
  },
  {
   "cell_type": "markdown",
   "metadata": {},
   "source": [
    "### Exploratory data analysis of the VAERS dataset"
   ]
  },
  {
   "cell_type": "markdown",
   "metadata": {},
   "source": [
    "1. Nan's\n",
    "\n",
    "- Some 'SYMPTOM_TEXT' values are Nan, it has value _Unevaluable event_ in the column 'ALL_SYMPTOMS' These records can be removed."
   ]
  },
  {
   "cell_type": "code",
   "execution_count": null,
   "metadata": {},
   "outputs": [],
   "source": [
    "nan_count = vaers_all.isna().sum()\n",
    "print(nan_count)"
   ]
  },
  {
   "cell_type": "code",
   "execution_count": 17,
   "metadata": {},
   "outputs": [
    {
     "data": {
      "text/plain": [
       "N    358956\n",
       "Y    332928\n",
       "U    272124\n",
       "Name: RECOVD, dtype: int64"
      ]
     },
     "execution_count": 17,
     "metadata": {},
     "output_type": "execute_result"
    }
   ],
   "source": [
    "vaers_all['RECOVD'].value_counts()"
   ]
  },
  {
   "cell_type": "code",
   "execution_count": 18,
   "metadata": {},
   "outputs": [
    {
     "data": {
      "text/plain": [
       "Y    24555\n",
       "Name: DIED, dtype: int64"
      ]
     },
     "execution_count": 18,
     "metadata": {},
     "output_type": "execute_result"
    }
   ],
   "source": [
    "vaers_all['DIED'].value_counts()"
   ]
  },
  {
   "cell_type": "code",
   "execution_count": 19,
   "metadata": {},
   "outputs": [
    {
     "data": {
      "text/plain": [
       "Y    165\n",
       "Name: ER_VISIT, dtype: int64"
      ]
     },
     "execution_count": 19,
     "metadata": {},
     "output_type": "execute_result"
    }
   ],
   "source": [
    "vaers_all['ER_VISIT'].value_counts()"
   ]
  },
  {
   "cell_type": "code",
   "execution_count": null,
   "metadata": {},
   "outputs": [],
   "source": [
    "sym_null = vaers_all[vaers_all['SYMPTOM_TEXT'].isna()]\n",
    "sym_null"
   ]
  },
  {
   "cell_type": "markdown",
   "metadata": {},
   "source": [
    "### Dropping rows that have Nan in 'SYMPTOM_TEXT' "
   ]
  },
  {
   "cell_type": "code",
   "execution_count": null,
   "metadata": {},
   "outputs": [],
   "source": [
    "vaers_all = vaers_all[vaers_all[\"SYMPTOM_TEXT\"].notna()]"
   ]
  },
  {
   "cell_type": "code",
   "execution_count": 30,
   "metadata": {},
   "outputs": [
    {
     "data": {
      "text/plain": [
       "1111040"
      ]
     },
     "execution_count": 30,
     "metadata": {},
     "output_type": "execute_result"
    }
   ],
   "source": [
    "len(vaers_all)"
   ]
  },
  {
   "cell_type": "code",
   "execution_count": 32,
   "metadata": {},
   "outputs": [
    {
     "data": {
      "text/plain": [
       "VAERS_ID                 0\n",
       "RECVDATE                 0\n",
       "STATE               184061\n",
       "AGE_YRS             110474\n",
       "CAGE_YR             223366\n",
       "CAGE_MO            1105214\n",
       "SEX                    255\n",
       "RPT_DATE           1109845\n",
       "SYMPTOM_TEXT             0\n",
       "DIED               1086490\n",
       "DATEDIED           1089031\n",
       "L_THREAT           1091770\n",
       "ER_VISIT           1110875\n",
       "HOSPITAL            993885\n",
       "HOSPDAYS           1042869\n",
       "X_STAY             1110459\n",
       "DISABLE            1087135\n",
       "RECOVD              147635\n",
       "VAX_DATE             79572\n",
       "ONSET_DATE          105787\n",
       "NUMDAYS             148758\n",
       "LAB_DATA            677829\n",
       "V_ADMINBY                0\n",
       "V_FUNDBY           1109732\n",
       "OTHER_MEDS          541899\n",
       "CUR_ILL             664593\n",
       "HISTORY             491889\n",
       "PRIOR_VAX          1060988\n",
       "SPLTTYPE            774848\n",
       "FORM_VERS                0\n",
       "TODAYS_DATE          15786\n",
       "BIRTH_DEFECT       1110255\n",
       "OFC_VISIT           884121\n",
       "ER_ED_VISIT         973005\n",
       "ALLERGIES           610992\n",
       "ORDER                    0\n",
       "VAX_TYPE                 0\n",
       "VAX_MANU                 0\n",
       "VAX_LOT             319509\n",
       "VAX_DOSE_SERIES       5651\n",
       "VAX_ROUTE           275664\n",
       "VAX_SITE            321557\n",
       "VAX_NAME                 0\n",
       "ALL_SYMPTOMS             0\n",
       "YEAR                     0\n",
       "dtype: int64"
      ]
     },
     "execution_count": 32,
     "metadata": {},
     "output_type": "execute_result"
    }
   ],
   "source": [
    "vaers_all.isna().sum()"
   ]
  },
  {
   "cell_type": "code",
   "execution_count": 33,
   "metadata": {},
   "outputs": [
    {
     "data": {
      "text/plain": [
       "N    358902\n",
       "Y    332629\n",
       "U    271874\n",
       "Name: RECOVD, dtype: int64"
      ]
     },
     "execution_count": 33,
     "metadata": {},
     "output_type": "execute_result"
    }
   ],
   "source": [
    "vaers_all['RECOVD'].value_counts()"
   ]
  },
  {
   "cell_type": "markdown",
   "metadata": {},
   "source": [
    "### Choosing only relevant columns from 'vaers_all' to remove noise from the dataset.\n",
    "\n",
    "1. Columns 'VAERS_ID' and 'SYMPTOM_TEXT' are essential for annotating and uniquly identifying each record."
   ]
  },
  {
   "cell_type": "markdown",
   "metadata": {},
   "source": [
    "#### Filtering only 'VAERS_ID' and 'SYMPTOM_TEXT' and 'YEAR' from vaers_all and saving it to data directory for annotations."
   ]
  },
  {
   "cell_type": "code",
   "execution_count": null,
   "metadata": {},
   "outputs": [],
   "source": [
    "# Selecting only relevant columns from 'vaers_all' to remove noise from the dataset.\n",
    "\n",
    "vaers_all_to_annotate = vaers_all[['VAERS_ID', 'SYMPTOM_TEXT', 'YEAR']]\n",
    "vaers_all_to_annotate.to_csv('/Users/joeraymond/Desktop/Data_Science_Projects/ADEGuard_AI_System/data/processed/data_to_annotate/vaers_all_to_annotate.csv', index=False)"
   ]
  }
 ],
 "metadata": {
  "kernelspec": {
   "display_name": "base",
   "language": "python",
   "name": "python3"
  },
  "language_info": {
   "codemirror_mode": {
    "name": "ipython",
    "version": 3
   },
   "file_extension": ".py",
   "mimetype": "text/x-python",
   "name": "python",
   "nbconvert_exporter": "python",
   "pygments_lexer": "ipython3",
   "version": "3.11.9"
  }
 },
 "nbformat": 4,
 "nbformat_minor": 2
}
